{
 "cells": [
  {
   "cell_type": "code",
   "execution_count": 7,
   "id": "9e70019d",
   "metadata": {},
   "outputs": [
    {
     "name": "stdout",
     "output_type": "stream",
     "text": [
      "=== 학원 시간표 ===\n",
      "     월요일 수요일  금요일\n",
      "1교시   국어  영어  NaN\n",
      "2교시   수학  영어   수학\n",
      "3교시  NaN  수학   국어\n"
     ]
    }
   ],
   "source": [
    "import pandas as pd\n",
    "\n",
    "#데이터 생성\n",
    "월 = pd.Series({'1교시':'국어', '2교시':'수학'})\n",
    "수 = pd.Series({'1교시':'영어', '2교시':'영어', '3교시':'수학'})\n",
    "금 = pd.Series({'2교시':'수학', '3교시':'국어'})\n",
    "\n",
    "#DataFrame\n",
    "학원시간표 = pd.DataFrame({\n",
    "    '월요일': 월,\n",
    "    '수요일': 수,\n",
    "    '금요일': 금\n",
    "})\n",
    "print('=== 학원 시간표 ===')\n",
    "print(학원시간표)"
   ]
  },
  {
   "cell_type": "code",
   "execution_count": 21,
   "id": "ebe7cb74",
   "metadata": {},
   "outputs": [
    {
     "name": "stdout",
     "output_type": "stream",
     "text": [
      "=== 수정된 학원 시간표 ===\n",
      "    월요일 수요일 금요일\n",
      "1교시  국어  영어   X\n",
      "2교시  수학  영어  수학\n",
      "3교시   X  수학  국어\n",
      "=== 수요일 영어만 있는 시간표 ===\n",
      "    월요일 수요일 금요일\n",
      "1교시  국어  영어   X\n",
      "2교시  수학  영어  수학\n"
     ]
    }
   ],
   "source": [
    "# csv파일로 저장\n",
    "학원시간표.to_csv(\"./datas/학원시간표.csv\")\n",
    "\n",
    "# 학원시간표 읽어오기\n",
    "# col=0 (교시), col = 1(월요일)\n",
    "학원시간표_정리 = pd.read_csv(\"./datas/학원시간표.csv\", index_col=0)\n",
    "학원시간표_정리\n",
    "\n",
    "#Nan -> X로 변경\n",
    "학원시간표_정리.loc['3교시']['월요일'] = 'X'\n",
    "학원시간표_정리.loc['1교시']['금요일'] = 'X'\n",
    "학원시간표_정리\n",
    "\n",
    "print(\"=== 수정된 학원 시간표 ===\")\n",
    "print(학원시간표_정리)\n",
    "\n",
    "print(\"=== 수요일 영어만 있는 시간표 ===\")\n",
    "#print([학원시간표_정리['수요일'] == '영어'])\n",
    "print(학원시간표_정리[학원시간표_정리['수요일'] == '영어'])"
   ]
  },
  {
   "cell_type": "code",
   "execution_count": null,
   "id": "42fba53b",
   "metadata": {},
   "outputs": [],
   "source": []
  }
 ],
 "metadata": {
  "kernelspec": {
   "display_name": "Python 3 (ipykernel)",
   "language": "python",
   "name": "python3"
  },
  "language_info": {
   "codemirror_mode": {
    "name": "ipython",
    "version": 3
   },
   "file_extension": ".py",
   "mimetype": "text/x-python",
   "name": "python",
   "nbconvert_exporter": "python",
   "pygments_lexer": "ipython3",
   "version": "3.10.9"
  }
 },
 "nbformat": 4,
 "nbformat_minor": 5
}
