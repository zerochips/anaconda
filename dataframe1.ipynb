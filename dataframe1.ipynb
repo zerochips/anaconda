{
 "cells": [
  {
   "cell_type": "code",
   "execution_count": 1,
   "id": "2e177d2b",
   "metadata": {},
   "outputs": [
    {
     "data": {
      "text/plain": [
       "30"
      ]
     },
     "execution_count": 1,
     "metadata": {},
     "output_type": "execute_result"
    }
   ],
   "source": [
    "a = 10\n",
    "b = 20\n",
    "a + b"
   ]
  },
  {
   "cell_type": "code",
   "execution_count": 3,
   "id": "e8efc4b8",
   "metadata": {},
   "outputs": [
    {
     "name": "stdout",
     "output_type": "stream",
     "text": [
      "21\n"
     ]
    }
   ],
   "source": [
    "def add(x, y):\n",
    "    return x + y\n",
    "\n",
    "print(add(10, 11))"
   ]
  },
  {
   "cell_type": "code",
   "execution_count": 5,
   "id": "18ec9a66",
   "metadata": {},
   "outputs": [
    {
     "name": "stdout",
     "output_type": "stream",
     "text": [
      "1 2 3 4 "
     ]
    }
   ],
   "source": [
    "a = [1, 2, 3, 4]\n",
    "\n",
    "for i in a:\n",
    "    print(i, end=' ')"
   ]
  },
  {
   "cell_type": "code",
   "execution_count": 6,
   "id": "2d7785c4",
   "metadata": {},
   "outputs": [
    {
     "data": {
      "text/plain": [
       "[1, 2, 3, 4, 5]"
      ]
     },
     "execution_count": 6,
     "metadata": {},
     "output_type": "execute_result"
    }
   ],
   "source": [
    "a.append(5)\n",
    "a"
   ]
  },
  {
   "cell_type": "code",
   "execution_count": 7,
   "id": "82bbef59",
   "metadata": {},
   "outputs": [
    {
     "data": {
      "text/plain": [
       "[1, 2, 3, 4]"
      ]
     },
     "execution_count": 7,
     "metadata": {},
     "output_type": "execute_result"
    }
   ],
   "source": [
    "a.pop() # 마지막 요소 삭제\n",
    "a"
   ]
  },
  {
   "cell_type": "code",
   "execution_count": 8,
   "id": "911cfa62",
   "metadata": {},
   "outputs": [
    {
     "data": {
      "text/plain": [
       "[1, 10, 2, 3, 4]"
      ]
     },
     "execution_count": 8,
     "metadata": {},
     "output_type": "execute_result"
    }
   ],
   "source": [
    "a.insert(1, 10)  # 특정 위치에 요소 삽입\n",
    "a"
   ]
  },
  {
   "cell_type": "code",
   "execution_count": 9,
   "id": "2f5f5bc2",
   "metadata": {},
   "outputs": [
    {
     "data": {
      "text/plain": [
       "[1, 10, 2, 4]"
      ]
     },
     "execution_count": 9,
     "metadata": {},
     "output_type": "execute_result"
    }
   ],
   "source": [
    "a.remove(3) # 특정 요소 삭제 \n",
    "a"
   ]
  },
  {
   "cell_type": "code",
   "execution_count": 10,
   "id": "cc5ba19e",
   "metadata": {},
   "outputs": [
    {
     "data": {
      "text/plain": [
       "17"
      ]
     },
     "execution_count": 10,
     "metadata": {},
     "output_type": "execute_result"
    }
   ],
   "source": [
    "sum(a)"
   ]
  },
  {
   "cell_type": "code",
   "execution_count": 11,
   "id": "56c14188",
   "metadata": {},
   "outputs": [
    {
     "data": {
      "text/plain": [
       "{'대원': 13, '혜수': 9}"
      ]
     },
     "execution_count": 11,
     "metadata": {},
     "output_type": "execute_result"
    }
   ],
   "source": [
    "dic = {'대원':13, '혜수':9}\n",
    "dic"
   ]
  },
  {
   "cell_type": "code",
   "execution_count": 12,
   "id": "dca2ae96",
   "metadata": {},
   "outputs": [
    {
     "data": {
      "text/plain": [
       "9"
      ]
     },
     "execution_count": 12,
     "metadata": {},
     "output_type": "execute_result"
    }
   ],
   "source": [
    "dic['혜수']"
   ]
  },
  {
   "cell_type": "code",
   "execution_count": 13,
   "id": "123aaf2f",
   "metadata": {},
   "outputs": [
    {
     "data": {
      "text/plain": [
       "{'대원': 13, '혜수': 9, '진': 14}"
      ]
     },
     "execution_count": 13,
     "metadata": {},
     "output_type": "execute_result"
    }
   ],
   "source": [
    "dic['진'] = 14  # 딕셔너리 요소 추가\n",
    "dic"
   ]
  },
  {
   "cell_type": "markdown",
   "id": "2816100a",
   "metadata": {},
   "source": [
    "## pandas 라이브러리 포함\n",
    "###  Series와 DataFreme 클래스가 제공됨\n",
    "#### '#'의 개수가 적을수록 글꼴 크기가 크다\n",
    "### Series - 1차원 벡터 데이터에 행방향 인덱스를 붙인것\n",
    "### DataFrame - 2차원 행과 열의 형태로 표현되는 것"
   ]
  },
  {
   "cell_type": "code",
   "execution_count": 1,
   "id": "42cff540",
   "metadata": {},
   "outputs": [
    {
     "name": "stdout",
     "output_type": "stream",
     "text": [
      "0    1\n",
      "1    2\n",
      "2    3\n",
      "3    4\n",
      "4    5\n",
      "dtype: int64\n"
     ]
    }
   ],
   "source": [
    "import pandas as pd\n",
    "\n",
    "# 리스트를 사용해서 Series 생성\n",
    "data = [1, 2, 3, 4, 5]\n",
    "s = pd.Series(data)\n",
    "print(s)"
   ]
  },
  {
   "cell_type": "code",
   "execution_count": 2,
   "id": "78379aa0",
   "metadata": {},
   "outputs": [
    {
     "data": {
      "text/plain": [
       "100    남\n",
       "101    여\n",
       "102     \n",
       "103    남\n",
       "dtype: object"
      ]
     },
     "execution_count": 2,
     "metadata": {},
     "output_type": "execute_result"
    }
   ],
   "source": [
    "# 딕셔너리를 이용한 Series 생성\n",
    "dic = {'100':'남', '101':'여', '102':'', '103':'남'}\n",
    "gender = pd.Series(dic)\n",
    "gender"
   ]
  },
  {
   "cell_type": "code",
   "execution_count": 3,
   "id": "b9e7d1bf",
   "metadata": {},
   "outputs": [
    {
     "data": {
      "text/plain": [
       "100    이산하\n",
       "101    강하늘\n",
       "102     김산\n",
       "103    안전해\n",
       "dtype: object"
      ]
     },
     "execution_count": 3,
     "metadata": {},
     "output_type": "execute_result"
    }
   ],
   "source": [
    "name = pd.Series({'100':'이산하', '101':'강하늘', '102':'김산', '103':'안전해'})\n",
    "name"
   ]
  },
  {
   "cell_type": "code",
   "execution_count": 4,
   "id": "2348eb98",
   "metadata": {},
   "outputs": [
    {
     "data": {
      "text/html": [
       "<div>\n",
       "<style scoped>\n",
       "    .dataframe tbody tr th:only-of-type {\n",
       "        vertical-align: middle;\n",
       "    }\n",
       "\n",
       "    .dataframe tbody tr th {\n",
       "        vertical-align: top;\n",
       "    }\n",
       "\n",
       "    .dataframe thead th {\n",
       "        text-align: right;\n",
       "    }\n",
       "</style>\n",
       "<table border=\"1\" class=\"dataframe\">\n",
       "  <thead>\n",
       "    <tr style=\"text-align: right;\">\n",
       "      <th></th>\n",
       "      <th>회원번호</th>\n",
       "      <th>성별</th>\n",
       "      <th>이름</th>\n",
       "    </tr>\n",
       "  </thead>\n",
       "  <tbody>\n",
       "    <tr>\n",
       "      <th>0</th>\n",
       "      <td>100</td>\n",
       "      <td>남</td>\n",
       "      <td>이산하</td>\n",
       "    </tr>\n",
       "    <tr>\n",
       "      <th>1</th>\n",
       "      <td>101</td>\n",
       "      <td>여</td>\n",
       "      <td>강하늘</td>\n",
       "    </tr>\n",
       "    <tr>\n",
       "      <th>2</th>\n",
       "      <td>102</td>\n",
       "      <td></td>\n",
       "      <td>김산</td>\n",
       "    </tr>\n",
       "    <tr>\n",
       "      <th>3</th>\n",
       "      <td>103</td>\n",
       "      <td>남</td>\n",
       "      <td>안전해</td>\n",
       "    </tr>\n",
       "  </tbody>\n",
       "</table>\n",
       "</div>"
      ],
      "text/plain": [
       "  회원번호 성별   이름\n",
       "0  100  남  이산하\n",
       "1  101  여  강하늘\n",
       "2  102      김산\n",
       "3  103  남  안전해"
      ]
     },
     "execution_count": 4,
     "metadata": {},
     "output_type": "execute_result"
    }
   ],
   "source": [
    "# DataFrame 사용\n",
    "회원 = pd.DataFrame({\n",
    "    '회원번호':['100', '101', '102', '103'],\n",
    "    '성별':['남', '여', '', '남'],\n",
    "    '이름':['이산하', '강하늘', '김산', '안전해']\n",
    "})\n",
    "회원"
   ]
  },
  {
   "cell_type": "code",
   "execution_count": 5,
   "id": "3298f947",
   "metadata": {},
   "outputs": [
    {
     "data": {
      "text/html": [
       "<div>\n",
       "<style scoped>\n",
       "    .dataframe tbody tr th:only-of-type {\n",
       "        vertical-align: middle;\n",
       "    }\n",
       "\n",
       "    .dataframe tbody tr th {\n",
       "        vertical-align: top;\n",
       "    }\n",
       "\n",
       "    .dataframe thead th {\n",
       "        text-align: right;\n",
       "    }\n",
       "</style>\n",
       "<table border=\"1\" class=\"dataframe\">\n",
       "  <thead>\n",
       "    <tr style=\"text-align: right;\">\n",
       "      <th></th>\n",
       "      <th>성별</th>\n",
       "      <th>이름</th>\n",
       "    </tr>\n",
       "    <tr>\n",
       "      <th>회원번호</th>\n",
       "      <th></th>\n",
       "      <th></th>\n",
       "    </tr>\n",
       "  </thead>\n",
       "  <tbody>\n",
       "    <tr>\n",
       "      <th>100</th>\n",
       "      <td>남</td>\n",
       "      <td>이산하</td>\n",
       "    </tr>\n",
       "    <tr>\n",
       "      <th>101</th>\n",
       "      <td>여</td>\n",
       "      <td>강하늘</td>\n",
       "    </tr>\n",
       "    <tr>\n",
       "      <th>102</th>\n",
       "      <td></td>\n",
       "      <td>김산</td>\n",
       "    </tr>\n",
       "    <tr>\n",
       "      <th>103</th>\n",
       "      <td>남</td>\n",
       "      <td>안전해</td>\n",
       "    </tr>\n",
       "  </tbody>\n",
       "</table>\n",
       "</div>"
      ],
      "text/plain": [
       "     성별   이름\n",
       "회원번호        \n",
       "100   남  이산하\n",
       "101   여  강하늘\n",
       "102       김산\n",
       "103   남  안전해"
      ]
     },
     "execution_count": 5,
     "metadata": {},
     "output_type": "execute_result"
    }
   ],
   "source": [
    "# 인덱스(기준)를 회원번호로 설정\n",
    "회원 = pd.DataFrame({\n",
    "    '회원번호':['100', '101', '102', '103'],\n",
    "    '성별':['남', '여', '', '남'],\n",
    "    '이름':['이산하', '강하늘', '김산', '안전해']\n",
    "})\n",
    "회원 = 회원.set_index('회원번호')\n",
    "회원"
   ]
  },
  {
   "cell_type": "code",
   "execution_count": 6,
   "id": "71b21e6a",
   "metadata": {},
   "outputs": [
    {
     "data": {
      "text/plain": [
       "회원번호\n",
       "100    이산하\n",
       "101    강하늘\n",
       "102     김산\n",
       "103    안전해\n",
       "Name: 이름, dtype: object"
      ]
     },
     "execution_count": 6,
     "metadata": {},
     "output_type": "execute_result"
    }
   ],
   "source": [
    "회원['이름']"
   ]
  },
  {
   "cell_type": "code",
   "execution_count": 9,
   "id": "ef6af3fb",
   "metadata": {},
   "outputs": [
    {
     "data": {
      "text/plain": [
       "회원번호\n",
       "100     True\n",
       "101    False\n",
       "102    False\n",
       "103     True\n",
       "Name: 성별, dtype: bool"
      ]
     },
     "execution_count": 9,
     "metadata": {},
     "output_type": "execute_result"
    }
   ],
   "source": [
    "회원['성별'] == '남'"
   ]
  },
  {
   "cell_type": "code",
   "execution_count": 10,
   "id": "0a25791b",
   "metadata": {},
   "outputs": [
    {
     "data": {
      "text/html": [
       "<div>\n",
       "<style scoped>\n",
       "    .dataframe tbody tr th:only-of-type {\n",
       "        vertical-align: middle;\n",
       "    }\n",
       "\n",
       "    .dataframe tbody tr th {\n",
       "        vertical-align: top;\n",
       "    }\n",
       "\n",
       "    .dataframe thead th {\n",
       "        text-align: right;\n",
       "    }\n",
       "</style>\n",
       "<table border=\"1\" class=\"dataframe\">\n",
       "  <thead>\n",
       "    <tr style=\"text-align: right;\">\n",
       "      <th></th>\n",
       "      <th>성별</th>\n",
       "      <th>이름</th>\n",
       "    </tr>\n",
       "    <tr>\n",
       "      <th>회원번호</th>\n",
       "      <th></th>\n",
       "      <th></th>\n",
       "    </tr>\n",
       "  </thead>\n",
       "  <tbody>\n",
       "    <tr>\n",
       "      <th>100</th>\n",
       "      <td>남</td>\n",
       "      <td>이산하</td>\n",
       "    </tr>\n",
       "    <tr>\n",
       "      <th>103</th>\n",
       "      <td>남</td>\n",
       "      <td>안전해</td>\n",
       "    </tr>\n",
       "  </tbody>\n",
       "</table>\n",
       "</div>"
      ],
      "text/plain": [
       "     성별   이름\n",
       "회원번호        \n",
       "100   남  이산하\n",
       "103   남  안전해"
      ]
     },
     "execution_count": 10,
     "metadata": {},
     "output_type": "execute_result"
    }
   ],
   "source": [
    "회원[회원['성별'] == '남']"
   ]
  },
  {
   "cell_type": "markdown",
   "id": "fe68254e",
   "metadata": {},
   "source": [
    "### 값 변경하기\n",
    "#### loc 속성 사용 - location(위치) - 행 이름, 칼럼 이름\n",
    "#### iloc 속성 - integer location (정수 위치) [0][1]"
   ]
  },
  {
   "cell_type": "code",
   "execution_count": 23,
   "id": "51c5702b",
   "metadata": {},
   "outputs": [
    {
     "data": {
      "text/html": [
       "<div>\n",
       "<style scoped>\n",
       "    .dataframe tbody tr th:only-of-type {\n",
       "        vertical-align: middle;\n",
       "    }\n",
       "\n",
       "    .dataframe tbody tr th {\n",
       "        vertical-align: top;\n",
       "    }\n",
       "\n",
       "    .dataframe thead th {\n",
       "        text-align: right;\n",
       "    }\n",
       "</style>\n",
       "<table border=\"1\" class=\"dataframe\">\n",
       "  <thead>\n",
       "    <tr style=\"text-align: right;\">\n",
       "      <th></th>\n",
       "      <th>성별</th>\n",
       "      <th>이름</th>\n",
       "    </tr>\n",
       "    <tr>\n",
       "      <th>회원번호</th>\n",
       "      <th></th>\n",
       "      <th></th>\n",
       "    </tr>\n",
       "  </thead>\n",
       "  <tbody>\n",
       "    <tr>\n",
       "      <th>100</th>\n",
       "      <td>남</td>\n",
       "      <td>이산하</td>\n",
       "    </tr>\n",
       "    <tr>\n",
       "      <th>101</th>\n",
       "      <td>여</td>\n",
       "      <td>강하늘</td>\n",
       "    </tr>\n",
       "    <tr>\n",
       "      <th>102</th>\n",
       "      <td></td>\n",
       "      <td>송중기</td>\n",
       "    </tr>\n",
       "    <tr>\n",
       "      <th>103</th>\n",
       "      <td>남</td>\n",
       "      <td>안전해</td>\n",
       "    </tr>\n",
       "  </tbody>\n",
       "</table>\n",
       "</div>"
      ],
      "text/plain": [
       "     성별   이름\n",
       "회원번호        \n",
       "100   남  이산하\n",
       "101   여  강하늘\n",
       "102      송중기\n",
       "103   남  안전해"
      ]
     },
     "execution_count": 23,
     "metadata": {},
     "output_type": "execute_result"
    }
   ],
   "source": [
    "회원.loc['102']['이름'] = '송중기'\n",
    "회원"
   ]
  },
  {
   "cell_type": "code",
   "execution_count": 24,
   "id": "ffa24d5a",
   "metadata": {},
   "outputs": [
    {
     "data": {
      "text/html": [
       "<div>\n",
       "<style scoped>\n",
       "    .dataframe tbody tr th:only-of-type {\n",
       "        vertical-align: middle;\n",
       "    }\n",
       "\n",
       "    .dataframe tbody tr th {\n",
       "        vertical-align: top;\n",
       "    }\n",
       "\n",
       "    .dataframe thead th {\n",
       "        text-align: right;\n",
       "    }\n",
       "</style>\n",
       "<table border=\"1\" class=\"dataframe\">\n",
       "  <thead>\n",
       "    <tr style=\"text-align: right;\">\n",
       "      <th></th>\n",
       "      <th>성별</th>\n",
       "      <th>이름</th>\n",
       "    </tr>\n",
       "    <tr>\n",
       "      <th>회원번호</th>\n",
       "      <th></th>\n",
       "      <th></th>\n",
       "    </tr>\n",
       "  </thead>\n",
       "  <tbody>\n",
       "    <tr>\n",
       "      <th>100</th>\n",
       "      <td>남</td>\n",
       "      <td>이산하</td>\n",
       "    </tr>\n",
       "    <tr>\n",
       "      <th>101</th>\n",
       "      <td>여</td>\n",
       "      <td>강하늘</td>\n",
       "    </tr>\n",
       "    <tr>\n",
       "      <th>102</th>\n",
       "      <td>남</td>\n",
       "      <td>송중기</td>\n",
       "    </tr>\n",
       "    <tr>\n",
       "      <th>103</th>\n",
       "      <td>남</td>\n",
       "      <td>안전해</td>\n",
       "    </tr>\n",
       "  </tbody>\n",
       "</table>\n",
       "</div>"
      ],
      "text/plain": [
       "     성별   이름\n",
       "회원번호        \n",
       "100   남  이산하\n",
       "101   여  강하늘\n",
       "102   남  송중기\n",
       "103   남  안전해"
      ]
     },
     "execution_count": 24,
     "metadata": {},
     "output_type": "execute_result"
    }
   ],
   "source": [
    "회원.iloc[2][0] = '남'  #3행 1열\n",
    "회원"
   ]
  },
  {
   "cell_type": "markdown",
   "id": "4f4f4429",
   "metadata": {},
   "source": [
    "## csv 파일로 저장하기\n",
    "### csv(comma seperated value) - 쉼표로 구분된 값\n",
    "### pandas에 제공되는 함수 - to_csv() : 파일 생성(쓰기)\n",
    "### read_csv() : 파일 읽기"
   ]
  },
  {
   "cell_type": "code",
   "execution_count": 25,
   "id": "bd80805a",
   "metadata": {},
   "outputs": [],
   "source": [
    "회원.to_csv(\"./datas/회원명부.csv\")"
   ]
  },
  {
   "cell_type": "code",
   "execution_count": 26,
   "id": "a5b05c35",
   "metadata": {},
   "outputs": [
    {
     "data": {
      "text/html": [
       "<div>\n",
       "<style scoped>\n",
       "    .dataframe tbody tr th:only-of-type {\n",
       "        vertical-align: middle;\n",
       "    }\n",
       "\n",
       "    .dataframe tbody tr th {\n",
       "        vertical-align: top;\n",
       "    }\n",
       "\n",
       "    .dataframe thead th {\n",
       "        text-align: right;\n",
       "    }\n",
       "</style>\n",
       "<table border=\"1\" class=\"dataframe\">\n",
       "  <thead>\n",
       "    <tr style=\"text-align: right;\">\n",
       "      <th></th>\n",
       "      <th>회원번호</th>\n",
       "      <th>성별</th>\n",
       "      <th>이름</th>\n",
       "    </tr>\n",
       "  </thead>\n",
       "  <tbody>\n",
       "    <tr>\n",
       "      <th>0</th>\n",
       "      <td>100</td>\n",
       "      <td>남</td>\n",
       "      <td>이산하</td>\n",
       "    </tr>\n",
       "    <tr>\n",
       "      <th>1</th>\n",
       "      <td>101</td>\n",
       "      <td>여</td>\n",
       "      <td>강하늘</td>\n",
       "    </tr>\n",
       "    <tr>\n",
       "      <th>2</th>\n",
       "      <td>102</td>\n",
       "      <td>남</td>\n",
       "      <td>송중기</td>\n",
       "    </tr>\n",
       "    <tr>\n",
       "      <th>3</th>\n",
       "      <td>103</td>\n",
       "      <td>남</td>\n",
       "      <td>안전해</td>\n",
       "    </tr>\n",
       "  </tbody>\n",
       "</table>\n",
       "</div>"
      ],
      "text/plain": [
       "   회원번호 성별   이름\n",
       "0   100  남  이산하\n",
       "1   101  여  강하늘\n",
       "2   102  남  송중기\n",
       "3   103  남  안전해"
      ]
     },
     "execution_count": 26,
     "metadata": {},
     "output_type": "execute_result"
    }
   ],
   "source": [
    "회원 = pd.read_csv(\"./datas/회원명부.csv\")\n",
    "회원"
   ]
  },
  {
   "cell_type": "code",
   "execution_count": null,
   "id": "327e1cd2",
   "metadata": {},
   "outputs": [],
   "source": []
  }
 ],
 "metadata": {
  "kernelspec": {
   "display_name": "Python 3 (ipykernel)",
   "language": "python",
   "name": "python3"
  },
  "language_info": {
   "codemirror_mode": {
    "name": "ipython",
    "version": 3
   },
   "file_extension": ".py",
   "mimetype": "text/x-python",
   "name": "python",
   "nbconvert_exporter": "python",
   "pygments_lexer": "ipython3",
   "version": "3.10.9"
  }
 },
 "nbformat": 4,
 "nbformat_minor": 5
}
