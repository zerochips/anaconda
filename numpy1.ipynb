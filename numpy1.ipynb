{
 "cells": [
  {
   "cell_type": "markdown",
   "id": "6c106c43",
   "metadata": {},
   "source": [
    "### Numpy : Numerical Python\n",
    "#### 수치계산용 파이썬 라이브러리"
   ]
  },
  {
   "cell_type": "code",
   "execution_count": 10,
   "id": "e61705e1",
   "metadata": {},
   "outputs": [
    {
     "data": {
      "text/plain": [
       "array([3, 5, 7])"
      ]
     },
     "execution_count": 10,
     "metadata": {},
     "output_type": "execute_result"
    }
   ],
   "source": [
    "import numpy as np\n",
    "\n",
    "# 넘파이 배열(리스트) 생성하기\n",
    "# np.arange() 함수 사용\n",
    "a = np.arange(10)\n",
    "a\n",
    "\n",
    "a2 = np.arange(3, 9)\n",
    "a2  #3, 4, 5, 6, 7, 8\n",
    "\n",
    "a3 = np.arange(3, 9, 2)\n",
    "a3  #3, 5, 7"
   ]
  },
  {
   "cell_type": "code",
   "execution_count": 13,
   "id": "a4a014ae",
   "metadata": {},
   "outputs": [
    {
     "name": "stdout",
     "output_type": "stream",
     "text": [
      "[1. 2. 3. 4.]\n",
      "float64\n"
     ]
    }
   ],
   "source": [
    "# 넘파이 배열(리스트) 생성하기\n",
    "# np.array() 함수 사용\n",
    "b = [1.0, 2, 3, 4]\n",
    "arr = np.array(b)\n",
    "arr\n",
    "print(arr)\n",
    "print(arr.dtype)"
   ]
  },
  {
   "cell_type": "code",
   "execution_count": 8,
   "id": "4a370376",
   "metadata": {},
   "outputs": [
    {
     "name": "stdout",
     "output_type": "stream",
     "text": [
      "['봄' '여름' '가을' '겨울']\n",
      "<U2\n"
     ]
    }
   ],
   "source": [
    "import numpy as np\n",
    "\n",
    "c = ['봄', '여름', '가을', '겨울']\n",
    "arr2 = np.array(c)\n",
    "arr2\n",
    "print(arr2)\n",
    "print(arr2.dtype)"
   ]
  },
  {
   "cell_type": "code",
   "execution_count": 22,
   "id": "020119e7",
   "metadata": {},
   "outputs": [],
   "source": [
    "import numpy as np\n",
    "\n",
    "순위 = 1 + np.arange(10) # 1 + (0~9)\n",
    "팀 = np.array(['SSG', 'LG', '키움', 'KT', '기아', 'NC', '삼성', '롯데', '두산', '한화'])\n",
    "승 = np.array([88, 87, 80, 80, 70, 67, 66, 64, 60, 46])\n",
    "패 = np.array([52, 55, 62, 62, 73, 74, 76, 76, 82, 96])\n",
    "무 = np.array([4, 2, 2, 2, 1, 3, 2, 4, 2, 2])\n",
    "승률 = np.array([0.629, 0.613, 0.563, 0.563, 0.490, 0.475, 0.465, 0.457, 0.423, 0.324])\n",
    "# print(팀)\n",
    "# print(승)\n",
    "#print(len(팀))\n",
    "\n",
    "with open(\"datas/2022kbo.txt\", 'w') as f:\n",
    "    f.write(\"========== 2022 한국 프로야구 성적표 ==========\\n\")\n",
    "    head = \"순위\\t팀\\t승\\t패\\t무\\t승률\"\n",
    "    f.write(head)\n",
    "    f.write('\\n')\n",
    "    for i in range(len(팀)): # 10번 반복\n",
    "        txt = f'{순위[i]}\\t{팀[i]}\\t{승[i]}\\t{패[i]}\\t{무[i]}\\t{승률[i]}\\n' #'\\n' 줄바꿈\n",
    "        f.write(txt)\n",
    "        "
   ]
  },
  {
   "cell_type": "code",
   "execution_count": 24,
   "id": "45f8966e",
   "metadata": {},
   "outputs": [
    {
     "name": "stdout",
     "output_type": "stream",
     "text": [
      "========== 2022 한국 프로야구 성적표 ==========\n",
      "순위\t팀\t승\t패\t무\t승률\n",
      "1\tSSG\t88\t52\t4\t0.629\n",
      "2\tLG\t87\t55\t2\t0.613\n",
      "3\t키움\t80\t62\t2\t0.563\n",
      "4\tKT\t80\t62\t2\t0.563\n",
      "5\t기아\t70\t73\t1\t0.49\n",
      "6\tNC\t67\t74\t3\t0.475\n",
      "7\t삼성\t66\t76\t2\t0.465\n",
      "8\t롯데\t64\t76\t4\t0.457\n",
      "9\t두산\t60\t82\t2\t0.423\n",
      "10\t한화\t46\t96\t2\t0.324\n",
      "\n"
     ]
    }
   ],
   "source": [
    "with open(\"datas/2022kbo.txt\", 'r') as f:\n",
    "    data = f.read()\n",
    "    print(data)"
   ]
  },
  {
   "cell_type": "markdown",
   "id": "18cdb89b",
   "metadata": {},
   "source": [
    "### 넘파이의 N차원 배열\n",
    "#### 1차원 배열은 벡터(vector)라 함\n",
    "#### 2차원 배열은 행렬(matrix) - 수 또는 문자를 괄호안에 직사각형 형태로 배열\n",
    "#### 3차원 배열은 텐서(tensor)라 함"
   ]
  },
  {
   "cell_type": "code",
   "execution_count": 35,
   "id": "2cef8a6e",
   "metadata": {},
   "outputs": [
    {
     "name": "stdout",
     "output_type": "stream",
     "text": [
      "[1 2]\n",
      "2\n",
      "4\n",
      "[3 0]\n",
      "[0 6]\n"
     ]
    }
   ],
   "source": [
    "A = np.array([[1, 2], [3, 4]])\n",
    "B = np.array([[3, 0], [0, 6]])\n",
    "# print(A)\n",
    "# print(A.shape) #(2, 2) -> 2행 2열\n",
    "# print(B)\n",
    "# print(B.shape)\n",
    "\n",
    "#인덱싱\n",
    "print(A[0])\n",
    "print(A[0][1])\n",
    "print(A[1][1])\n",
    "\n",
    "#전체 조회\n",
    "for row in B:\n",
    "    print(row)\n",
    "\n",
    "#연산\n",
    "# print(A+B)\n",
    "# print(A-B)\n",
    "# print(A*B)\n",
    "# print(A/B)"
   ]
  },
  {
   "cell_type": "code",
   "execution_count": null,
   "id": "25b5f40c",
   "metadata": {},
   "outputs": [],
   "source": []
  }
 ],
 "metadata": {
  "kernelspec": {
   "display_name": "Python 3 (ipykernel)",
   "language": "python",
   "name": "python3"
  },
  "language_info": {
   "codemirror_mode": {
    "name": "ipython",
    "version": 3
   },
   "file_extension": ".py",
   "mimetype": "text/x-python",
   "name": "python",
   "nbconvert_exporter": "python",
   "pygments_lexer": "ipython3",
   "version": "3.10.9"
  }
 },
 "nbformat": 4,
 "nbformat_minor": 5
}
