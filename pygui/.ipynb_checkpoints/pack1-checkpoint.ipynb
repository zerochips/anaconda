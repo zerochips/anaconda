{
 "cells": [
  {
   "cell_type": "code",
   "execution_count": null,
   "id": "be786fe3",
   "metadata": {},
   "outputs": [],
   "source": [
    "from tkinter import *\n",
    "\n",
    "window = Tk()\n",
    "window.title(\"pack\")\n",
    "window.geometry(\"300x100\")\n",
    "window.option_add(\"*Font\", \"바탕체 15\")\n",
    "\n",
    "# pack() - 한 줄을 차지함. 가운데 정렬\n",
    "Label(window, text='안녕하세요').pack()\n",
    "btn = Button(window)\n",
    "btn.config(text='확인')\n",
    "# btn.pack(side = 'right') # side 속성 -> 'left', 'right'\n",
    "btn.pack(side = 'top') # side 속성-> 'top', 'bottom' - top이 기본임\n",
    "\n",
    "\n",
    "window.mainloop()"
   ]
  },
  {
   "cell_type": "code",
   "execution_count": null,
   "id": "85ecf54e",
   "metadata": {},
   "outputs": [],
   "source": []
  },
  {
   "cell_type": "code",
   "execution_count": null,
   "id": "4eab6214",
   "metadata": {},
   "outputs": [],
   "source": []
  }
 ],
 "metadata": {
  "kernelspec": {
   "display_name": "Python 3 (ipykernel)",
   "language": "python",
   "name": "python3"
  },
  "language_info": {
   "codemirror_mode": {
    "name": "ipython",
    "version": 3
   },
   "file_extension": ".py",
   "mimetype": "text/x-python",
   "name": "python",
   "nbconvert_exporter": "python",
   "pygments_lexer": "ipython3",
   "version": "3.10.9"
  }
 },
 "nbformat": 4,
 "nbformat_minor": 5
}
