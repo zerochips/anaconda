{
 "cells": [
  {
   "cell_type": "markdown",
   "id": "52c6c1cf",
   "metadata": {},
   "source": [
    "## 로또 당첨 번호 가져오기\n",
    "## 앱 만들기"
   ]
  },
  {
   "cell_type": "code",
   "execution_count": 21,
   "id": "03431e7d",
   "metadata": {},
   "outputs": [
    {
     "name": "stdout",
     "output_type": "stream",
     "text": [
      "당첨번호\n",
      "['3', '18', '19', '23', '32', '45']\n",
      "보너스번호\n",
      "24\n"
     ]
    }
   ],
   "source": [
    "import requests\n",
    "from bs4 import BeautifulSoup\n",
    "\n",
    "num = 1065\n",
    "url = \"https://www.dhlottery.co.kr/gameResult.do?method=byWin&drwNo={}\".format(num)\n",
    "response = requests.get(url)\n",
    "# print(response.text)\n",
    "\n",
    "soup = BeautifulSoup(response.text, \"html.parser\")\n",
    "win_result = soup.select_one('div.win_result')  #태그이름.클래스이름\n",
    "# win_result.text #'\\n'을 확인함\n",
    "win_list = win_result.text.split('\\n') \n",
    "win_list\n",
    "win_list = win_result.text.split('\\n')[7:13]\n",
    "win_list\n",
    "bonus_num = win_result.text.split('\\n')[-4]\n",
    "bonus_num\n",
    "print('당첨번호')\n",
    "print(win_list)\n",
    "print('보너스번호')\n",
    "print(bonus_num)"
   ]
  },
  {
   "cell_type": "code",
   "execution_count": null,
   "id": "8d1709be",
   "metadata": {},
   "outputs": [],
   "source": []
  }
 ],
 "metadata": {
  "kernelspec": {
   "display_name": "Python 3 (ipykernel)",
   "language": "python",
   "name": "python3"
  },
  "language_info": {
   "codemirror_mode": {
    "name": "ipython",
    "version": 3
   },
   "file_extension": ".py",
   "mimetype": "text/x-python",
   "name": "python",
   "nbconvert_exporter": "python",
   "pygments_lexer": "ipython3",
   "version": "3.10.9"
  }
 },
 "nbformat": 4,
 "nbformat_minor": 5
}
