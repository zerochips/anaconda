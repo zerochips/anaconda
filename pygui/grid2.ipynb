{
 "cells": [
  {
   "cell_type": "code",
   "execution_count": 11,
   "id": "90b3abd1",
   "metadata": {},
   "outputs": [],
   "source": [
    "from tkinter import *\n",
    "\n",
    "window = Tk()\n",
    "window.title('grid')\n",
    "window.geometry(\"300x200\")\n",
    "window.option_add(\"*font\", \"맑은고딕 15\")\n",
    "\n",
    "# 동, 서, 남, 북 만들기 - sticky=E, W, S, N(대문자 사용)\n",
    "Label(window, text=\"오늘도 좋은하루!\").grid(row=0, column=0)\n",
    "Button(window, text='북').grid(row=1, column=0, sticky=N)\n",
    "Button(window, text='서').grid(row=2, column=0, sticky=W)\n",
    "Button(window, text='동').grid(row=2, column=0, sticky=E)\n",
    "Button(window, text='남').grid(row=3, column=0, sticky=S)\n",
    "\n",
    "\n",
    "window.mainloop()"
   ]
  },
  {
   "cell_type": "code",
   "execution_count": null,
   "id": "a14b3dfd",
   "metadata": {},
   "outputs": [],
   "source": []
  }
 ],
 "metadata": {
  "kernelspec": {
   "display_name": "Python 3 (ipykernel)",
   "language": "python",
   "name": "python3"
  },
  "language_info": {
   "codemirror_mode": {
    "name": "ipython",
    "version": 3
   },
   "file_extension": ".py",
   "mimetype": "text/x-python",
   "name": "python",
   "nbconvert_exporter": "python",
   "pygments_lexer": "ipython3",
   "version": "3.10.9"
  }
 },
 "nbformat": 4,
 "nbformat_minor": 5
}
