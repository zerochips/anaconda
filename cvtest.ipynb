{
 "cells": [
  {
   "cell_type": "markdown",
   "id": "d30d5cd2",
   "metadata": {},
   "source": [
    "### 이미지 영상 처리 - opencv"
   ]
  },
  {
   "cell_type": "code",
   "execution_count": 10,
   "id": "8de29544",
   "metadata": {},
   "outputs": [
    {
     "data": {
      "text/plain": [
       "True"
      ]
     },
     "execution_count": 10,
     "metadata": {},
     "output_type": "execute_result"
    }
   ],
   "source": [
    "import cv2\n",
    "\n",
    "img = cv2.imread(\"./source/activity.jpg\", cv2.IMREAD_COLOR)\n",
    "cv2.imshow('paragliding', img)\n",
    "cv2.waitKey(0)\n",
    "\n",
    "#gray style\n",
    "img_gray = cv2.cvtColor(img, cv2.COLOR_BGR2GRAY)\n",
    "cv2.imshow('paragliding', img_gray)\n",
    "cv2.waitKey(0)\n",
    "\n",
    "#파일 쓰기\n",
    "cv2.imwrite(\"./source/activity2.jpg\", img_gray)"
   ]
  },
  {
   "cell_type": "code",
   "execution_count": null,
   "id": "b234d349",
   "metadata": {},
   "outputs": [],
   "source": []
  }
 ],
 "metadata": {
  "kernelspec": {
   "display_name": "Python 3 (ipykernel)",
   "language": "python",
   "name": "python3"
  },
  "language_info": {
   "codemirror_mode": {
    "name": "ipython",
    "version": 3
   },
   "file_extension": ".py",
   "mimetype": "text/x-python",
   "name": "python",
   "nbconvert_exporter": "python",
   "pygments_lexer": "ipython3",
   "version": "3.10.9"
  }
 },
 "nbformat": 4,
 "nbformat_minor": 5
}
